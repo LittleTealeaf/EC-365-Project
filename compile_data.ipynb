{
 "cells": [
  {
   "cell_type": "code",
   "execution_count": null,
   "metadata": {},
   "outputs": [],
   "source": [
    "import tempfile as tmp\n",
    "import pandas as pd\n",
    "import requests\n",
    "import zipfile as zip\n",
    "import os\n",
    "import shutil\n",
    "from tqdm import tqdm\n",
    "from matplotlib import pyplot"
   ]
  },
  {
   "attachments": {},
   "cell_type": "markdown",
   "metadata": {},
   "source": [
    "# Importing the Dataset\n",
    "The dataset can be located on the StackOverflow website under their developer survey info page"
   ]
  },
  {
   "cell_type": "code",
   "execution_count": null,
   "metadata": {},
   "outputs": [],
   "source": [
    "url = 'https://info.stackoverflowsolutions.com/rs/719-EMH-566/images/stack-overflow-developer-survey-2022.zip'\n",
    "file_name = 'survey_results_public.csv'\n",
    "\n",
    "request = requests.get(url)\n",
    "\n",
    "# Save to zip file\n",
    "_,tmp_zip = tmp.mkstemp(suffix='.zip')\n",
    "tmp_dir = tmp.mkdtemp()\n",
    "tmp_target = tmp.mkdtemp()\n",
    "with open(tmp_zip,'wb') as file:\n",
    "  file.write(request.content)\n",
    "\n",
    "with zip.ZipFile(tmp_zip,'r') as zip_ref:\n",
    "  zip_ref.extractall(tmp_target)\n",
    "\n",
    "df = pd.read_csv(os.path.join(tmp_target,file_name))\n",
    "\n",
    "shutil.rmtree(tmp_dir,ignore_errors=True)\n",
    "shutil.rmtree(tmp_target,ignore_errors=True)\n",
    "os.remove(tmp_zip)\n",
    "\n",
    "del tmp_zip\n",
    "del tmp_dir\n",
    "del tmp_target\n",
    "\n",
    "df"
   ]
  },
  {
   "cell_type": "code",
   "execution_count": null,
   "metadata": {},
   "outputs": [],
   "source": [
    "df.columns"
   ]
  },
  {
   "cell_type": "code",
   "execution_count": null,
   "metadata": {},
   "outputs": [],
   "source": [
    "def split_list(column_name):\n",
    "\n",
    "  print(\"Splitting Column List: \", column_name)\n",
    "\n",
    "  column_name_list = f'{column_name}AsList'\n",
    "\n",
    "  df[column_name_list] = df.apply(lambda row: row[column_name].split(\";\") if type(row[column_name]) == str else [], axis = 1)\n",
    "\n",
    "  values = []\n",
    "  for row in df[column_name_list]:\n",
    "    for value in row:\n",
    "      if value not in values:\n",
    "        values.append(value)\n",
    "\n",
    "    \n",
    "  print(\"Creating Columns\")\n",
    "  \n",
    "  for value in tqdm(values):\n",
    "    df[f'{column_name}-{value}'] = df.apply(lambda row: 1 if value in row[column_name_list] else 0, axis = 1)\n",
    "  \n",
    "\n",
    "for item in ['LanguageHaveWorkedWith',\n",
    "       'LanguageWantToWorkWith', 'DatabaseHaveWorkedWith',\n",
    "       'DatabaseWantToWorkWith', 'PlatformHaveWorkedWith',\n",
    "       'PlatformWantToWorkWith', 'WebframeHaveWorkedWith',\n",
    "       'WebframeWantToWorkWith', 'MiscTechHaveWorkedWith',\n",
    "       'MiscTechWantToWorkWith', 'ToolsTechHaveWorkedWith',\n",
    "       'ToolsTechWantToWorkWith', 'NEWCollabToolsHaveWorkedWith',\n",
    "       'NEWCollabToolsWantToWorkWith']:\n",
    "  split_list(item)"
   ]
  }
 ],
 "metadata": {
  "kernelspec": {
   "display_name": "base",
   "language": "python",
   "name": "python3"
  },
  "language_info": {
   "codemirror_mode": {
    "name": "ipython",
    "version": 3
   },
   "file_extension": ".py",
   "mimetype": "text/x-python",
   "name": "python",
   "nbconvert_exporter": "python",
   "pygments_lexer": "ipython3",
   "version": "3.9.12"
  },
  "orig_nbformat": 4,
  "vscode": {
   "interpreter": {
    "hash": "7fce03ce3fdab951b0d4f70635ebce247bd4c622d798cf88ee78078111e0151b"
   }
  }
 },
 "nbformat": 4,
 "nbformat_minor": 2
}
