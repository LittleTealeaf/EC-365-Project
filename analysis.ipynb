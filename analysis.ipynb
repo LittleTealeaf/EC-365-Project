{
 "cells": [
  {
   "attachments": {},
   "cell_type": "markdown",
   "metadata": {},
   "source": [
    "# Initial Python Setup"
   ]
  },
  {
   "cell_type": "code",
   "execution_count": null,
   "metadata": {},
   "outputs": [],
   "source": [
    "import pandas as pd\n",
    "import numpy as np\n",
    "import requests as req\n",
    "\n",
    "from matplotlib import pyplot as plot\n",
    "\n",
    "from zipfile import ZipFile\n",
    "from io import BytesIO"
   ]
  },
  {
   "attachments": {},
   "cell_type": "markdown",
   "metadata": {},
   "source": [
    "# Setting Variables\n",
    "Here we are just setting variables (such as the url, file name, etc) to tidy up the importing code"
   ]
  },
  {
   "cell_type": "code",
   "execution_count": null,
   "metadata": {},
   "outputs": [],
   "source": [
    "url = 'https://info.stackoverflowsolutions.com/rs/719-EMH-566/images/stack-overflow-developer-survey-2022.zip'\n",
    "file_name = 'survey_results_public.csv'"
   ]
  },
  {
   "attachments": {},
   "cell_type": "markdown",
   "metadata": {},
   "source": [
    "# Importing the Dataset"
   ]
  },
  {
   "cell_type": "code",
   "execution_count": null,
   "metadata": {},
   "outputs": [],
   "source": [
    "response = req.get(url)\n",
    "zip_file = ZipFile(BytesIO(response.content))\n",
    "df = pd.read_csv(BytesIO(zip_file.read(file_name)))\n",
    "display(df)"
   ]
  },
  {
   "attachments": {},
   "cell_type": "markdown",
   "metadata": {},
   "source": [
    "# Cleaning the Data\n",
    "\n",
    "In order to use this dataset, we will need to clean it up and interpret some of the variables\n",
    "\n",
    "## Dummy Variables\n",
    "\n",
    "Many of the variables in the data are multi-selected lists, where the user can choose none, any, or all of the options. These are stored as a list seperated by a `;` deliminer.\n",
    "\n",
    "We can use the dataframe method\n",
    "\n",
    "```python\n",
    "df.str.get_dummies(';')\n",
    "```\n",
    "\n",
    "to split these up into dummy variables"
   ]
  },
  {
   "cell_type": "code",
   "execution_count": null,
   "metadata": {},
   "outputs": [],
   "source": [
    "dummy_languages = df[\"LanguageHaveWorkedWith\"].str.get_dummies(';').add_prefix(\"[Language] \")\n",
    "dummy_devtype = df[\"DevType\"].str.get_dummies(\";\").add_prefix(\"[DevType] \")\n",
    "dummy_learncodeoffline = df[\"LearnCode\"].str.get_dummies(\";\").add_prefix(\"[LearnCode] \")\n",
    "dummy_learncodeonline = df[\"LearnCodeOnline\"].str.get_dummies(\";\").add_prefix(\"[LearnCode] \")\n",
    "\n",
    "df1 = pd.concat([df,dummy_languages, dummy_devtype, dummy_learncodeoffline, dummy_learncodeonline], axis = 1)\n",
    "display(df1)"
   ]
  },
  {
   "attachments": {},
   "cell_type": "markdown",
   "metadata": {},
   "source": [
    "By keeping the dummy dataframe variables, we can easily grab all of the columns using the following method\n",
    "\n",
    "```python\n",
    "dummy_learncodeoffline.columns\n",
    "```\n",
    "\n",
    "This will make it significantly easier in order to grab variables we want when regressing"
   ]
  }
 ],
 "metadata": {
  "kernelspec": {
   "display_name": "base",
   "language": "python",
   "name": "python3"
  },
  "language_info": {
   "codemirror_mode": {
    "name": "ipython",
    "version": 3
   },
   "file_extension": ".py",
   "mimetype": "text/x-python",
   "name": "python",
   "nbconvert_exporter": "python",
   "pygments_lexer": "ipython3",
   "version": "3.9.12"
  },
  "orig_nbformat": 4,
  "vscode": {
   "interpreter": {
    "hash": "a739c0ba9768ba13a49b67bbd89939051d256e1e512d550a4706c0b6ceae78c6"
   }
  }
 },
 "nbformat": 4,
 "nbformat_minor": 2
}
