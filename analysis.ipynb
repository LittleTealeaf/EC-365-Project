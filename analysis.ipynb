{
 "cells": [
  {
   "attachments": {},
   "cell_type": "markdown",
   "metadata": {},
   "source": [
    "# Initial Python Setup"
   ]
  },
  {
   "cell_type": "code",
   "execution_count": null,
   "metadata": {},
   "outputs": [],
   "source": [
    "import os\n",
    "import pandas as pd\n",
    "import requests as req\n",
    "import numpy as np\n",
    "import statsmodels.api as stapi\n",
    "import statsmodels.formula.api as smf\n",
    "\n",
    "from zipfile import ZipFile\n",
    "from io import BytesIO\n",
    "from IPython.display import display\n",
    "from matplotlib import rc as pltrc\n",
    "from matplotlib import pyplot as plt\n",
    "from statsmodels.formula.api import ols\n",
    "from statsmodels.regression.linear_model import RegressionResults, RegressionResultsWrapper"
   ]
  },
  {
   "attachments": {},
   "cell_type": "markdown",
   "metadata": {},
   "source": [
    "# Initial Variables\n",
    "Here, we just set up initial variables and configuration to clean up code and results"
   ]
  },
  {
   "cell_type": "code",
   "execution_count": null,
   "metadata": {},
   "outputs": [],
   "source": [
    "url = 'https://info.stackoverflowsolutions.com/rs/719-EMH-566/images/stack-overflow-developer-survey-2022.zip'\n",
    "file_name = 'survey_results_public.csv'\n",
    "\n",
    "pd.set_option('display.max_columns', 500)\n",
    "pd.set_option('display.max_rows', 75)\n",
    "\n",
    "font = {\n",
    "    'family': 'normal',\n",
    "    'weight': 'bold',\n",
    "    'size': 10\n",
    "}\n",
    "pltrc('font', size=8)"
   ]
  },
  {
   "attachments": {},
   "cell_type": "markdown",
   "metadata": {},
   "source": [
    "# Importing the Dataset\n",
    "Here we download and import the dataset in memory to eliminate the need of local storage."
   ]
  },
  {
   "cell_type": "code",
   "execution_count": null,
   "metadata": {},
   "outputs": [],
   "source": [
    "response = req.get(url)\n",
    "zip_file = ZipFile(BytesIO(response.content))\n",
    "df = pd.read_csv(BytesIO(zip_file.read(file_name)))\n",
    "display(df)"
   ]
  },
  {
   "attachments": {},
   "cell_type": "markdown",
   "metadata": {},
   "source": [
    "# Cleaning the Data\n",
    "\n",
    "In order to use the dataset, we will first clean it up and interpret some of the variables into dummy variables.\n",
    "\n",
    "## Dummy Variables\n",
    "\n",
    "Many of the variables in the data are multi-selected lists, where the user can choose none, any, or all of the options. These are stored as a list seperated by a `;` deliminer.\n",
    "\n",
    "We can use the dataframe method\n",
    "\n",
    "```python\n",
    "df.str.get_dummies(';')\n",
    "```\n",
    "\n",
    "to split these up into dummy variables. We will keep the individual data frames so we can access all of the columns with\n",
    "\n",
    "```python\n",
    "list(dummy_df.columns)\n",
    "```\n",
    "\n",
    "Additionally, we will rename some columns in this step in order to make it usable in regressions"
   ]
  },
  {
   "cell_type": "code",
   "execution_count": null,
   "metadata": {},
   "outputs": [],
   "source": [
    "dummy_languages = df[\"LanguageHaveWorkedWith\"].str.get_dummies(';').rename(columns={\n",
    "  \"C#\": \"CSharp\",\n",
    "  \"F#\": \"FSharp\",\n",
    "  \"Bash/Shell\": \"Bash\",\n",
    "  \"HTML/CSS\": \"HTML\",\n",
    "  \"Objective-C\": \"ObjectiveC\"\n",
    "})\n",
    "dummy_devtype = df[\"DevType\"].str.get_dummies(\";\").rename(columns={\n",
    "  \"Academic researcher\": \"AcademicResearcher\",\n",
    "  \"Cloud infrastructure engineer\": \"CloudInfrastructureEngineer\",\n",
    "  \"Data or business analyst\": \"DataBusinessAnalyst\",\n",
    "  \"Data scientist or machine learning specialist\": \"DataScientistMachineLearning\",\n",
    "  \"Database administrator\": \"DatabaseAdministrator\",\n",
    "  \"DevOps specialist\": \"DevOpsSpecialist\",\n",
    "  \"Developer, QA or test\": \"DevQATest\",\n",
    "  \"Developer, back-end\": \"DevBackend\",\n",
    "  \"Developer, desktop or enterprise applications\": \"DevDesktopApps\",\n",
    "  \"Developer, embedded applications or devices\": \"DevEmbedded\",\n",
    "  \"Developer, front-end\": \"DevFrontend\",\n",
    "  \"Developer, full-stack\": \"DevFullstack\",\n",
    "  \"Developer, game or graphics\": \"DevGame\",\n",
    "  \"Developer, mobile\": \"DevMobile\",\n",
    "  \"Engineer, data\": \"DataEngineer\",\n",
    "  \"Engineer, site reliability\": \"SiteReliabilityEngineer\",\n",
    "  \"Engineering manager\": \"EngineerManager\",\n",
    "  \"Marketing or sales professional\": \"MarketingSales\",\n",
    "  \"Other (please specify):\": \"Other\",\n",
    "  \"Product manager\": \"ProductManager\",\n",
    "  \"Project manager\":\"ProjectManager\",\n",
    "  \"Security professional\": \"Security\",\n",
    "  \"Senior Executive (C-Suite, VP, etc.)\": \"SeniorExec\",\n",
    "  \"System administrator\": \"SystemAdmin\"\n",
    "}).add_prefix(\"DevType\")\n",
    "dummy_employment = df[\"Employment\"].str.get_dummies(\";\").rename(columns={\n",
    "  \"Employed, full-time\": \"FullTime\",\n",
    "  \"Employed, part-time\": \"PartTime\",\n",
    "  \"I prefer not to say\": \"Unknown\",\n",
    "  \"Independent contractor, freelancer, or self-employed\": \"SelfEmployed\",\n",
    "  \"Not employed, and not looking for work\": \"UnemployedNotLooking\",\n",
    "  \"Not employed, but looking for work\": \"UnemployedLooking\",\n",
    "  \"Student, full-time\": \"StudentFullTime\",\n",
    "  \"Student, part-time\": \"StudentPartTime\"\n",
    "}).add_prefix(\"Employed\")\n",
    "\n",
    "df = pd.concat([df,dummy_languages,dummy_devtype,dummy_employment], axis=1)\n",
    "display(df)"
   ]
  },
  {
   "attachments": {},
   "cell_type": "markdown",
   "metadata": {},
   "source": [
    "## Converting \"Other\" entries to their numbers\n",
    "Some of the columns that we use are numbers, but they also include values such as \"less than 1 year\", etc. For that reason, we'll be replacing those values with values we can use to regress easier"
   ]
  },
  {
   "cell_type": "code",
   "execution_count": null,
   "metadata": {},
   "outputs": [],
   "source": [
    "df[\"YearsCodeNumeric\"] = pd.to_numeric(df[\"YearsCode\"].replace({\n",
    "  \"Less than 1 year\": 0,\n",
    "  \"More than 50 years\": 50\n",
    "}))\n",
    "df[\"YearsCodeProNumeric\"] = pd.to_numeric(df[\"YearsCodePro\"].replace({\n",
    "  \"Less than 1 year\": 0,\n",
    "  \"More than 50 years\": 50\n",
    "}))"
   ]
  },
  {
   "attachments": {},
   "cell_type": "markdown",
   "metadata": {},
   "source": [
    "## Filtering Data\n",
    "\n",
    "Because the data is so vast across multiple countries and currencies, we will need to filter the data down to only rows that has everything we want in the format that we want, we'll store this filtered data separately as `dfreg`"
   ]
  },
  {
   "cell_type": "code",
   "execution_count": null,
   "metadata": {},
   "outputs": [],
   "source": [
    "dfreg = df[\n",
    "  (df[\"Country\"] == \"United States of America\") &\n",
    "  (df[\"ConvertedCompYearly\"].notna())\n",
    "]\n",
    "display(dfreg)"
   ]
  },
  {
   "attachments": {},
   "cell_type": "markdown",
   "metadata": {},
   "source": [
    "# Helper Functions\n"
   ]
  },
  {
   "attachments": {},
   "cell_type": "markdown",
   "metadata": {},
   "source": [
    "## Visualizing Results\n",
    "This function will help with visualizing the results that we see in each outcome, specifically the relationship between language and salary"
   ]
  },
  {
   "cell_type": "code",
   "execution_count": null,
   "metadata": {},
   "outputs": [],
   "source": [
    "def visualize_regression(regression: RegressionResultsWrapper):\n",
    "  table = regression.summary2().tables[1]\n",
    "  table = table[table.index.isin(list(dummy_languages.columns))]\n",
    "  table = table.sort_values(by=[\"Coef.\"])\n",
    "  plt.figure(figsize=(25,5))\n",
    "  plt.xticks(rotation=90)\n",
    "  plt.bar(table.index,table[\"Coef.\"],width=25/len(list(dummy_languages.columns)))\n",
    "  plt.ylabel(\"Coefficient\")\n",
    "  plt.xlabel(\"Language (From lowest to highest salary impact)\")"
   ]
  },
  {
   "attachments": {},
   "cell_type": "markdown",
   "metadata": {},
   "source": [
    "# Running Regressions\n",
    "Below will be regressions walking through the process to get to the final regression used for analysis\n",
    "\n",
    "First, we'll make a string variable for each of the dummy sets that just prints each of the columns in that segment, joined by addition"
   ]
  },
  {
   "cell_type": "code",
   "execution_count": null,
   "metadata": {},
   "outputs": [],
   "source": [
    "var_languages = \" + \".join(list(dummy_languages.columns))\n",
    "var_devtype = \" + \".join(list(dummy_devtype.columns))\n",
    "var_employment = \" + \".join(list(dummy_employment.columns))"
   ]
  },
  {
   "attachments": {},
   "cell_type": "markdown",
   "metadata": {},
   "source": [
    "## The Basic Regression\n",
    "The most basic regression that we can do is just modeling how the languages affects yearly compensation"
   ]
  },
  {
   "cell_type": "code",
   "execution_count": null,
   "metadata": {},
   "outputs": [],
   "source": [
    "ols_basic = ols(f\"ConvertedCompYearly ~ {var_languages}\", data = dfreg).fit()\n",
    "visualize_regression(ols_basic)"
   ]
  },
  {
   "attachments": {},
   "cell_type": "markdown",
   "metadata": {},
   "source": [
    "## Logging Converted Comp Yearly\n",
    "By logging converted comp yearly, our interpretation of the coefficients is that knowing that particular language will result in a X% increase in the compensation"
   ]
  },
  {
   "cell_type": "code",
   "execution_count": null,
   "metadata": {},
   "outputs": [],
   "source": [
    "ols_logsalary = ols(f\"np.log(ConvertedCompYearly) ~ {var_languages}\", data = dfreg).fit()\n",
    "visualize_regression(ols_logsalary)"
   ]
  },
  {
   "attachments": {},
   "cell_type": "markdown",
   "metadata": {},
   "source": [
    "# Controlling for Developer Type"
   ]
  },
  {
   "cell_type": "code",
   "execution_count": null,
   "metadata": {},
   "outputs": [],
   "source": [
    "ols_devtype = ols(f\"np.log(ConvertedCompYearly) ~ {var_languages} + {var_devtype}\", data = dfreg).fit()\n",
    "visualize_regression(ols_devtype)"
   ]
  },
  {
   "attachments": {},
   "cell_type": "markdown",
   "metadata": {},
   "source": [
    "## Controlling for just employment status"
   ]
  },
  {
   "cell_type": "code",
   "execution_count": null,
   "metadata": {},
   "outputs": [],
   "source": [
    "ols_employed = ols(f\"np.log(ConvertedCompYearly) ~ {var_languages} + {var_employment}\", data = dfreg).fit()\n",
    "visualize_regression(ols_employed)"
   ]
  },
  {
   "attachments": {},
   "cell_type": "markdown",
   "metadata": {},
   "source": [
    "## CONTROLLING FOR EVERYTHING"
   ]
  },
  {
   "cell_type": "code",
   "execution_count": null,
   "metadata": {},
   "outputs": [],
   "source": [
    "ols_all = ols(f\"np.log(ConvertedCompYearly) ~ {var_languages} + {var_employment} + {var_employment} + YearsCodeNumeric +\tYearsCodeProNumeric + EdLevel\", data = dfreg).fit()\n",
    "display(ols_all.summary())\n",
    "visualize_regression(ols_all)"
   ]
  }
 ],
 "metadata": {
  "kernelspec": {
   "display_name": "base",
   "language": "python",
   "name": "python3"
  },
  "language_info": {
   "codemirror_mode": {
    "name": "ipython",
    "version": 3
   },
   "file_extension": ".py",
   "mimetype": "text/x-python",
   "name": "python",
   "nbconvert_exporter": "python",
   "pygments_lexer": "ipython3",
   "version": "3.9.12"
  },
  "orig_nbformat": 4,
  "vscode": {
   "interpreter": {
    "hash": "7fce03ce3fdab951b0d4f70635ebce247bd4c622d798cf88ee78078111e0151b"
   }
  }
 },
 "nbformat": 4,
 "nbformat_minor": 2
}
