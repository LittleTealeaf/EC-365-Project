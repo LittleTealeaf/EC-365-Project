{
 "cells": [
  {
   "attachments": {},
   "cell_type": "markdown",
   "metadata": {},
   "source": [
    "# Initial Python Setup"
   ]
  },
  {
   "cell_type": "code",
   "execution_count": null,
   "metadata": {},
   "outputs": [],
   "source": [
    "import pandas as pd\n",
    "import requests as req\n",
    "import os\n",
    "\n",
    "from matplotlib import pyplot as plt\n",
    "\n",
    "from zipfile import ZipFile\n",
    "from io import BytesIO\n",
    "from IPython.display import display"
   ]
  },
  {
   "attachments": {},
   "cell_type": "markdown",
   "metadata": {},
   "source": [
    "# Setting Variables\n",
    "Here we are just setting variables (such as the url, file name, etc) to tidy up the importing code"
   ]
  },
  {
   "cell_type": "code",
   "execution_count": null,
   "metadata": {},
   "outputs": [],
   "source": [
    "url = 'https://info.stackoverflowsolutions.com/rs/719-EMH-566/images/stack-overflow-developer-survey-2022.zip'\n",
    "file_name = 'survey_results_public.csv'\n",
    "\n",
    "pd.set_option('display.max_columns', 500)\n",
    "pd.set_option('display.max_rows', 75)"
   ]
  },
  {
   "attachments": {},
   "cell_type": "markdown",
   "metadata": {},
   "source": [
    "# Importing the Dataset"
   ]
  },
  {
   "cell_type": "code",
   "execution_count": null,
   "metadata": {},
   "outputs": [],
   "source": [
    "response = req.get(url)\n",
    "zip_file = ZipFile(BytesIO(response.content))\n",
    "df = pd.read_csv(BytesIO(zip_file.read(file_name)))\n",
    "display(df)"
   ]
  },
  {
   "cell_type": "code",
   "execution_count": null,
   "metadata": {},
   "outputs": [],
   "source": [
    "display(df[[\"ConvertedCompYearly\", \"Currency\", \"CompTotal\", \"CompFreq\"]])\n",
    "plt.plot(df[\"ConvertedCompYearly\"])"
   ]
  },
  {
   "attachments": {},
   "cell_type": "markdown",
   "metadata": {},
   "source": [
    "# Cleaning the Data\n",
    "\n",
    "In order to use this dataset, we will need to clean it up and interpret some of the variables\n",
    "\n",
    "## Dummy Variables\n",
    "\n",
    "Many of the variables in the data are multi-selected lists, where the user can choose none, any, or all of the options. These are stored as a list seperated by a `;` deliminer.\n",
    "\n",
    "We can use the dataframe method\n",
    "\n",
    "```python\n",
    "df.str.get_dummies(';')\n",
    "```\n",
    "\n",
    "to split these up into dummy variables"
   ]
  },
  {
   "cell_type": "code",
   "execution_count": null,
   "metadata": {},
   "outputs": [],
   "source": [
    "dummy_languages = df[\"LanguageHaveWorkedWith\"].str.get_dummies(';')\n",
    "dummy_learncodeoffline = df[\"LearnCode\"].str.get_dummies(\";\").add_prefix(\"Learn From \")\n",
    "dummy_learncodeonline = df[\"LearnCodeOnline\"].str.get_dummies(\";\").add_prefix(\"Learn From \")\n",
    "dummy_devtype = df[\"DevType\"].str.get_dummies(\";\").add_prefix(\"Dev Type: \")\n",
    "\n",
    "df = pd.concat([df,dummy_languages, dummy_learncodeoffline, dummy_learncodeonline, dummy_devtype], axis = 1)\n",
    "display(df)"
   ]
  },
  {
   "cell_type": "code",
   "execution_count": null,
   "metadata": {},
   "outputs": [],
   "source": [
    "display(df[list(dummy_learncodeoffline.columns) + list(dummy_learncodeonline.columns)])"
   ]
  },
  {
   "attachments": {},
   "cell_type": "markdown",
   "metadata": {},
   "source": [
    "## Looking at when any of the currency variables are NaN or not NaN"
   ]
  },
  {
   "cell_type": "code",
   "execution_count": null,
   "metadata": {},
   "outputs": [],
   "source": [
    "display(df[df[\"ConvertedCompYearly\"].isna()][df[\"CompTotal\"].notna()][[\"ConvertedCompYearly\", \"Currency\", \"CompTotal\", \"CompFreq\"]])"
   ]
  },
  {
   "cell_type": "code",
   "execution_count": null,
   "metadata": {},
   "outputs": [],
   "source": [
    "display(df[df[\"ConvertedCompYearly\"].notna()][[\"ConvertedCompYearly\", \"Currency\", \"CompTotal\", \"CompFreq\"]])"
   ]
  },
  {
   "cell_type": "code",
   "execution_count": null,
   "metadata": {},
   "outputs": [],
   "source": [
    "display(df[df[\"ConvertedCompYearly\"].notna()][df[\"Currency\"] == \"USD\\tUnited States dollar\"][[\"ConvertedCompYearly\", \"Currency\", \"CompTotal\", \"CompFreq\"]])"
   ]
  },
  {
   "attachments": {},
   "cell_type": "markdown",
   "metadata": {},
   "source": [
    "## Filtering to United States\n"
   ]
  },
  {
   "cell_type": "code",
   "execution_count": null,
   "metadata": {},
   "outputs": [],
   "source": [
    "df1 = df[df[\"Country\"] == \"United States of America\"]\n",
    "display(df1)"
   ]
  },
  {
   "cell_type": "code",
   "execution_count": null,
   "metadata": {},
   "outputs": [],
   "source": [
    "display(df1[[\"Currency\",\"ConvertedCompYearly\",\"CompFreq\"]][(df1[\"Currency\"] != \"USD\\tUnited States dollar\" ) & (df1[\"Currency\"].notna())])"
   ]
  },
  {
   "attachments": {},
   "cell_type": "markdown",
   "metadata": {},
   "source": [
    "## Filtering to only USD"
   ]
  },
  {
   "cell_type": "code",
   "execution_count": null,
   "metadata": {},
   "outputs": [],
   "source": [
    "df2 = df1[df1[\"Currency\"] == \"USD\\tUnited States dollar\"]\n",
    "display(df2[[\"Currency\",\"ConvertedCompYearly\",\"CompFreq\",\"CompTotal\"]])"
   ]
  },
  {
   "cell_type": "code",
   "execution_count": null,
   "metadata": {},
   "outputs": [],
   "source": [
    "display(df2[[\"Currency\",\"ConvertedCompYearly\",\"CompFreq\",\"CompTotal\"]][df2[\"ConvertedCompYearly\"].isna() & (df2[\"CompTotal\"].notna()) & df2[\"CompFreq\"].notna()])"
   ]
  },
  {
   "attachments": {},
   "cell_type": "markdown",
   "metadata": {},
   "source": [
    "# Not filtering for USD, but filtering to United States where ConvertedCompYearly is not NaN"
   ]
  },
  {
   "cell_type": "code",
   "execution_count": null,
   "metadata": {},
   "outputs": [],
   "source": [
    "# so the converted year comp total is just like, taking out all of the excess values\n",
    "df3 = df1[df1[\"ConvertedCompYearly\"].notna()]\n",
    "display(df3[[\"ConvertedCompYearly\",\"EdLevel\"] + list(dummy_languages.columns) + list(dummy_devtype.columns)])\n",
    "plt.plot(df3[\"ConvertedCompYearly\"])"
   ]
  },
  {
   "cell_type": "code",
   "execution_count": null,
   "metadata": {},
   "outputs": [],
   "source": [
    "# if not os.path.exists(\"tmp\"):\n",
    "#  os.mkdir(\"tmp\")\n",
    "# df_out = df3[[\"ConvertedCompYearly\",\"EdLevel\"] + list(dummy_languages.columns) + list(dummy_devtype.columns)]\n",
    "#df_out.to_csv(os.path.join(\"tmp\",\"data_out.csv\"))"
   ]
  },
  {
   "cell_type": "markdown",
   "metadata": {},
   "source": []
  }
 ],
 "metadata": {
  "kernelspec": {
   "display_name": "Python 3.9.12 ('base')",
   "language": "python",
   "name": "python3"
  },
  "language_info": {
   "codemirror_mode": {
    "name": "ipython",
    "version": 3
   },
   "file_extension": ".py",
   "mimetype": "text/x-python",
   "name": "python",
   "nbconvert_exporter": "python",
   "pygments_lexer": "ipython3",
   "version": "3.9.12"
  },
  "orig_nbformat": 4,
  "vscode": {
   "interpreter": {
    "hash": "a739c0ba9768ba13a49b67bbd89939051d256e1e512d550a4706c0b6ceae78c6"
   }
  }
 },
 "nbformat": 4,
 "nbformat_minor": 2
}
