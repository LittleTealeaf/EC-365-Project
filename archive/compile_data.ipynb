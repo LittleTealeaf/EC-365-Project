{
 "cells": [
  {
   "cell_type": "code",
   "execution_count": null,
   "metadata": {},
   "outputs": [],
   "source": [
    "import tempfile as tmp\n",
    "import pandas as pd\n",
    "import numpy as np\n",
    "import requests\n",
    "import zipfile as zip\n",
    "import os\n",
    "import shutil\n",
    "from tqdm import tqdm\n",
    "from matplotlib import pyplot"
   ]
  },
  {
   "attachments": {},
   "cell_type": "markdown",
   "metadata": {},
   "source": [
    "# Importing the Dataset\n",
    "The dataset can be located on the StackOverflow website under their developer survey info paget"
   ]
  },
  {
   "cell_type": "code",
   "execution_count": null,
   "metadata": {},
   "outputs": [],
   "source": [
    "url = 'https://info.stackoverflowsolutions.com/rs/719-EMH-566/images/stack-overflow-developer-survey-2022.zip'\n",
    "file_name = 'survey_results_public.csv'\n",
    "\n",
    "request = requests.get(url)\n",
    "\n",
    "# Save to zip file\n",
    "_,tmp_zip = tmp.mkstemp(suffix='.zip')\n",
    "tmp_dir = tmp.mkdtemp()\n",
    "tmp_target = tmp.mkdtemp()\n",
    "with open(tmp_zip,'wb') as file:\n",
    "  file.write(request.content)\n",
    "\n",
    "with zip.ZipFile(tmp_zip,'r') as zip_ref:\n",
    "  zip_ref.extractall(tmp_target)\n",
    "\n",
    "df = pd.read_csv(os.path.join(tmp_target,file_name))\n",
    "\n",
    "shutil.rmtree(tmp_dir,ignore_errors=True)\n",
    "shutil.rmtree(tmp_target,ignore_errors=True)\n",
    "os.remove(tmp_zip)\n",
    "\n",
    "del tmp_zip\n",
    "del tmp_dir\n",
    "del tmp_target\n",
    "\n",
    "display(df)"
   ]
  },
  {
   "cell_type": "code",
   "execution_count": null,
   "metadata": {},
   "outputs": [],
   "source": [
    "print(list(df.columns))"
   ]
  },
  {
   "cell_type": "code",
   "execution_count": null,
   "metadata": {},
   "outputs": [],
   "source": [
    "# https://stackoverflow.com/questions/49860987/pandas-split-column-into-multiple-columns-with-unique-values\n",
    "\n",
    "# list_columns = [\"LanguageHaveWorkedWith\"]\n",
    "\n",
    "# new_columns = [df[column].str.get_dummies(\";\").add_prefix(f'{column}_') for column in list_columns]\n",
    "\n",
    "# df_expanded = pd.concat([df] + new_columns, axis = 1)\n",
    "# display(df_expanded)\n",
    "\n",
    "new_columns = df[\"LanguageHaveWorkedWith\"].str.get_dummies(\";\").add_prefix(\"Language-\")\n",
    "\n",
    "df = pd.concat([df, new_columns], axis = 1)\n",
    "display(df)"
   ]
  },
  {
   "cell_type": "code",
   "execution_count": null,
   "metadata": {},
   "outputs": [],
   "source": [
    "# apache arrow"
   ]
  }
 ],
 "metadata": {
  "kernelspec": {
   "display_name": "base",
   "language": "python",
   "name": "python3"
  },
  "language_info": {
   "codemirror_mode": {
    "name": "ipython",
    "version": 3
   },
   "file_extension": ".py",
   "mimetype": "text/x-python",
   "name": "python",
   "nbconvert_exporter": "python",
   "pygments_lexer": "ipython3",
   "version": "3.9.12 (main, Apr  4 2022, 05:22:27) [MSC v.1916 64 bit (AMD64)]"
  },
  "orig_nbformat": 4,
  "vscode": {
   "interpreter": {
    "hash": "a739c0ba9768ba13a49b67bbd89939051d256e1e512d550a4706c0b6ceae78c6"
   }
  }
 },
 "nbformat": 4,
 "nbformat_minor": 2
}
