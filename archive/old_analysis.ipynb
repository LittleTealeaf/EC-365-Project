{
 "cells": [
  {
   "attachments": {},
   "cell_type": "markdown",
   "metadata": {},
   "source": [
    "# Initial Python Setup"
   ]
  },
  {
   "cell_type": "code",
   "execution_count": null,
   "metadata": {},
   "outputs": [],
   "source": [
    "import pandas as pd\n",
    "import numpy as np\n",
    "import requests as req\n",
    "\n",
    "from matplotlib import pyplot as plot\n",
    "\n",
    "from zipfile import ZipFile\n",
    "from io import BytesIO"
   ]
  },
  {
   "attachments": {},
   "cell_type": "markdown",
   "metadata": {},
   "source": [
    "# Setting Variables\n",
    "Here we are just setting variables (such as the url, file name, etc) to tidy up the importing code"
   ]
  },
  {
   "cell_type": "code",
   "execution_count": null,
   "metadata": {},
   "outputs": [],
   "source": [
    "url = 'https://info.stackoverflowsolutions.com/rs/719-EMH-566/images/stack-overflow-developer-survey-2022.zip'\n",
    "file_name = 'survey_results_public.csv'"
   ]
  },
  {
   "attachments": {},
   "cell_type": "markdown",
   "metadata": {},
   "source": [
    "# Importing the Dataset"
   ]
  },
  {
   "cell_type": "code",
   "execution_count": null,
   "metadata": {},
   "outputs": [],
   "source": [
    "response = req.get(url)\n",
    "zip_file = ZipFile(BytesIO(response.content))\n",
    "df = pd.read_csv(BytesIO(zip_file.read(file_name)))\n",
    "display(df)"
   ]
  },
  {
   "attachments": {},
   "cell_type": "markdown",
   "metadata": {},
   "source": [
    "# Cleaning the Data\n",
    "\n",
    "First, we will need to clean the data in order to make it possible to begin regressing the variables.\n",
    "\n",
    "## Dummy Variables\n",
    "\n",
    "Many of the variables in the data are multi-selector lists, where ther user could choose any, all, or none of the options. In order to work with this data, we will need to make dummy variables for each item in the list. We will be using the following method in order to do so\n",
    "```python\n",
    "df.str.get_dummies(\";\")\n",
    "```"
   ]
  },
  {
   "cell_type": "code",
   "execution_count": null,
   "metadata": {},
   "outputs": [],
   "source": [
    "dummy_languages = df[\"LanguageHaveWorkedWith\"].str.get_dummies(\";\").add_prefix(\"Language-\")\n",
    "dummy_devtype = df[\"DevType\"].str.get_dummies(\";\").add_prefix(\"DevType-\")\n",
    "dummy_learncodeoffline = df[\"LearnCode\"].str.get_dummies(\";\").add_prefix(\"LearnCode-\")\n",
    "dummy_learncodeonline = df[\"LearnCodeOnline\"].str.get_dummies(\";\").add_prefix(\"LearnCode-\")\n",
    "\n",
    "df1 = pd.concat([df, dummy_languages, dummy_devtype, dummy_learncodeoffline, dummy_learncodeonline], axis = 1)\n",
    "display(df1)"
   ]
  },
  {
   "attachments": {},
   "cell_type": "markdown",
   "metadata": {},
   "source": [
    "We keep the individual dummy dataframes because we can use them to grab all of the dummy variables from a set, such as below"
   ]
  },
  {
   "cell_type": "code",
   "execution_count": null,
   "metadata": {},
   "outputs": [],
   "source": [
    "display(df1[dummy_learncodeoffline.columns])"
   ]
  },
  {
   "cell_type": "code",
   "execution_count": null,
   "metadata": {},
   "outputs": [],
   "source": [
    "plot.plot(df[\"ConvertedCompYearly\"])"
   ]
  },
  {
   "cell_type": "code",
   "execution_count": null,
   "metadata": {},
   "outputs": [],
   "source": [
    "df[\"ConvertedCompYearly\"].mean()"
   ]
  },
  {
   "cell_type": "code",
   "execution_count": null,
   "metadata": {},
   "outputs": [],
   "source": [
    "df[\"ConvertedCompYearly\"].max()"
   ]
  },
  {
   "cell_type": "code",
   "execution_count": null,
   "metadata": {},
   "outputs": [],
   "source": [
    "df.loc[df[\"ConvertedCompYearly\"] == df[\"ConvertedCompYearly\"].max()]"
   ]
  },
  {
   "cell_type": "code",
   "execution_count": null,
   "metadata": {},
   "outputs": [],
   "source": [
    "df.loc[df[\"ConvertedCompYearly\"] == df[\"ConvertedCompYearly\"].max()][\"Age\"]"
   ]
  },
  {
   "cell_type": "code",
   "execution_count": null,
   "metadata": {},
   "outputs": [],
   "source": []
  }
 ],
 "metadata": {
  "kernelspec": {
   "display_name": "base",
   "language": "python",
   "name": "python3"
  },
  "language_info": {
   "codemirror_mode": {
    "name": "ipython",
    "version": 3
   },
   "file_extension": ".py",
   "mimetype": "text/x-python",
   "name": "python",
   "nbconvert_exporter": "python",
   "pygments_lexer": "ipython3",
   "version": "3.9.12 (main, Apr  4 2022, 05:22:27) [MSC v.1916 64 bit (AMD64)]"
  },
  "orig_nbformat": 4,
  "vscode": {
   "interpreter": {
    "hash": "a739c0ba9768ba13a49b67bbd89939051d256e1e512d550a4706c0b6ceae78c6"
   }
  }
 },
 "nbformat": 4,
 "nbformat_minor": 2
}
